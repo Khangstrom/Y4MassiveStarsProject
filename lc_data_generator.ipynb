{
 "cells": [
  {
   "cell_type": "code",
   "execution_count": 1,
   "metadata": {},
   "outputs": [],
   "source": [
    "import os, sys\n",
    "import lightkurve as lk    #good time-series library\n",
    "import pandas as pd \n",
    "import numpy as np\n",
    "import astropy"
   ]
  },
  {
   "cell_type": "code",
   "execution_count": 2,
   "metadata": {},
   "outputs": [],
   "source": [
    "#Searching lightcurves\n",
    "def search_lc(name, mission, exptime, radius):\n",
    "    search_result = lk.search_lightcurve(name, mission=mission, exptime=exptime, radius=radius)\n",
    "    print (search_result)\n",
    "    return search_result"
   ]
  },
  {
   "cell_type": "code",
   "execution_count": 3,
   "metadata": {},
   "outputs": [],
   "source": [
    "#Auto-generate text files of light curves\n",
    "def lc_dat_generate(search_result, name):\n",
    "    lc_data = search_result.download_all()\n",
    "    for i in range (len(lc_data)):\n",
    "        lc_data[i].write(\"{}_lc{}.txt\".format(name, i), format=\"ascii.fixed_width\", overwrite=True)"
   ]
  },
  {
   "cell_type": "code",
   "execution_count": 4,
   "metadata": {},
   "outputs": [
    {
     "name": "stdout",
     "output_type": "stream",
     "text": [
      "SearchResult containing 4 data products.\n",
      "\n",
      " #     mission     year author exptime target_name distance\n",
      "                                  s                 arcsec \n",
      "--- -------------- ---- ------ ------- ----------- --------\n",
      "  0 TESS Sector 36 2021   SPOC     120   463593043      0.0\n",
      "  1 TESS Sector 37 2021   SPOC     120   463593043      0.0\n",
      "  2 TESS Sector 09 2019   SPOC     120   463593039     20.8\n",
      "  3 TESS Sector 10 2019   SPOC     120   463593039     20.8\n"
     ]
    }
   ],
   "source": [
    "#Inspect results from search before generating data\n",
    "search_res = search_lc(\"WR18\", \"TESS\", 120, 60)"
   ]
  },
  {
   "cell_type": "code",
   "execution_count": 154,
   "metadata": {},
   "outputs": [],
   "source": [
    "#Note: This is in text-form NOT FITS \n",
    "lc_dat_generate(search_res, \"WR157\")"
   ]
  },
  {
   "cell_type": "code",
   "execution_count": 159,
   "metadata": {},
   "outputs": [],
   "source": [
    "#Take note of WR11 - has 8 light curves (4 per target)\n",
    "#WR18 - 4 light curves (2 each) \n",
    "#WR55 - 2 light curves (1 each)\n",
    "#WR85 has distance of 9.3\"\n",
    "#WR 1,2,5,8,31a,31b,92,124,127,128,134-138,140,143,157-159 has no light curve data"
   ]
  },
  {
   "cell_type": "code",
   "execution_count": 15,
   "metadata": {
    "scrolled": true
   },
   "outputs": [
    {
     "name": "stdout",
     "output_type": "stream",
     "text": [
      "17343\n"
     ]
    }
   ],
   "source": [
    "wr18 = search_res[0].download()\n",
    "print(len(wr18.time.value))"
   ]
  },
  {
   "cell_type": "code",
   "execution_count": null,
   "metadata": {},
   "outputs": [],
   "source": []
  }
 ],
 "metadata": {
  "kernelspec": {
   "display_name": "Python 3",
   "language": "python",
   "name": "python3"
  },
  "language_info": {
   "codemirror_mode": {
    "name": "ipython",
    "version": 3
   },
   "file_extension": ".py",
   "mimetype": "text/x-python",
   "name": "python",
   "nbconvert_exporter": "python",
   "pygments_lexer": "ipython3",
   "version": "3.8.3"
  }
 },
 "nbformat": 4,
 "nbformat_minor": 4
}
