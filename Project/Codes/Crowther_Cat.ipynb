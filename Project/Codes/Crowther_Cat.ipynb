{
 "cells": [
  {
   "cell_type": "code",
   "execution_count": 24,
   "metadata": {},
   "outputs": [],
   "source": [
    "import os, sys\n",
    "import numpy as np\n",
    "import pandas as pd \n",
    "import astropy\n",
    "from astropy import units as u\n",
    "from astropy.coordinates import SkyCoord\n",
    "from astropy.table import QTable"
   ]
  },
  {
   "cell_type": "code",
   "execution_count": 3,
   "metadata": {},
   "outputs": [],
   "source": [
    "#Read from Crowther catalogue of Wolf-Rayet stars table\n",
    "WR_cat = pd.read_csv (r'C:\\Users\\MKH\\Documents\\Documents\\Science\\Physics\\UoB Physics\\Y4\\Massive Stars Project\\Project\\Crowther_WR.csv')\n",
    "#print (WR_cat)\n",
    "\n",
    "#Displays all database\n",
    "#with pd.option_context('display.max_rows', None, 'display.max_columns', None):  # more options can be specified also\n",
    "#    print(df)\n"
   ]
  },
  {
   "cell_type": "code",
   "execution_count": 4,
   "metadata": {},
   "outputs": [],
   "source": [
    "#NaN dropping function\n",
    "def nan_drop(data, colname):\n",
    "    data.dropna(subset = [colname], inplace=True)\n",
    "    return data[colname]"
   ]
  },
  {
   "cell_type": "code",
   "execution_count": 5,
   "metadata": {},
   "outputs": [
    {
     "name": "stdout",
     "output_type": "stream",
     "text": [
      "      ID  WR# Reference         HD      Alias1  Alias2        Alias3  \\\n",
      "0      1    1       VII    HD 4004    HIP 3415     NaN           NaN   \n",
      "1      2    2       VII    HD 6327    HIP 5100     NaN           NaN   \n",
      "2      3    3       VII    HD 9974    HIP 7681     NaN           NaN   \n",
      "3      4    4       VII   HD 16523   HIP 12527     NaN           NaN   \n",
      "4      5    5       VII   HD 17638   HIP 13380     NaN           NaN   \n",
      "..   ...  ...       ...        ...         ...     ...           ...   \n",
      "422  429  155       VII  HD 214419  HIP 111633  CQ Cep           NaN   \n",
      "423  430  156       VII        NaN  HIP 113569  MR 119  AC +60 38562   \n",
      "424  431  157       VII  HD 219460  HIP 114791     NaN           NaN   \n",
      "425  432  158       VII        NaN  HIP 117034  MR 112        AS 513   \n",
      "426  433  159      VIIA        NaN         NaN   BCC 1   BD+62 2296B   \n",
      "\n",
      "    Right Ascension Declination J2000  Galactic Longitude  ...      V      G  \\\n",
      "0       00 43 28.39       +64 45 35.4            122.0825  ...  10.10   9.79   \n",
      "1       01 05 23.03       +60 25 18.9            124.6500  ...  10.99    NaN   \n",
      "2       01 38 55.62       +58 09 22.6            129.1797  ...  10.61  10.58   \n",
      "3       02 41 11.67       +56 43 49.8            137.5948  ...   9.80   9.68   \n",
      "4       02 52 11.66       +56 56 07.1            138.8668  ...  10.37  10.06   \n",
      "..              ...               ...                 ...  ...    ...    ...   \n",
      "422     22 36 53.95       +56 54 20.9            105.3233  ...   8.83   8.71   \n",
      "423     23 00 10.12       +60 55 38.4            109.8241  ...  11.01  10.30   \n",
      "424     23 15 12.39       +60 27 01.8            111.3338  ...  10.50  10.26   \n",
      "425     23 43 30.59       +61 55 48.1            115.0325  ...  11.24  10.71   \n",
      "426     23 47 20.38       +63 13 14.2            115.7855  ...  11.20  10.53   \n",
      "\n",
      "          J       H       K       Cluster  Association  Star Forming Region  \\\n",
      "0     8.206   7.857    7.48           NaN    (Cas OB7)                  NaN   \n",
      "1    10.036   9.783   9.445           NaN     Cas OB1:                  NaN   \n",
      "2    10.237  10.134  10.009           NaN          NaN                  NaN   \n",
      "3     8.749   8.566   7.877           NaN          NaN                  NaN   \n",
      "4     8.626   8.336   7.653           NaN          NaN                  NaN   \n",
      "..      ...     ...     ...           ...          ...                  ...   \n",
      "422   7.482    7.34   7.161           NaN     Cep OB1:                  NaN   \n",
      "423   7.938   7.443    7.03           NaN          NaN                  NaN   \n",
      "424     NaN     NaN     NaN  Markarian 50          NaN                  NaN   \n",
      "425   8.638   8.201   7.811           NaN          NaN                  NaN   \n",
      "426     NaN     NaN     NaN           NaN          NaN                  NaN   \n",
      "\n",
      "     Distance  DistanceRef  \n",
      "0        3.15         RC20  \n",
      "1        2.40        CSM19  \n",
      "2        2.90         RC20  \n",
      "3        3.75         RC20  \n",
      "4        2.97         RC20  \n",
      "..        ...          ...  \n",
      "422      2.99         RC20  \n",
      "423      4.10         RC20  \n",
      "424      2.57         RC20  \n",
      "425      5.00         RC20  \n",
      "426      1.82         RC20  \n",
      "\n",
      "[89 rows x 31 columns]\n"
     ]
    }
   ],
   "source": [
    "#Sort out list of brightest stars (V<12)\n",
    "bright_WR = WR_cat[WR_cat['V']<12]\n",
    "#with pd.option_context('display.max_rows', None, 'display.max_columns', None):  # more options can be specified also\n",
    "print (bright_WR)"
   ]
  },
  {
   "cell_type": "code",
   "execution_count": 6,
   "metadata": {},
   "outputs": [],
   "source": [
    "#Write into csv file of brightest WR stars\n",
    "bright_WR.to_csv('bright_wr.csv', index=False)"
   ]
  },
  {
   "cell_type": "code",
   "execution_count": 37,
   "metadata": {},
   "outputs": [],
   "source": [
    "#Write into csv list of only RA, DEC in decimals format - to find which WR are observed at which sectors\n",
    "RA = bright_WR['Right Ascension'] \n",
    "DEC = bright_WR['Declination J2000']\n",
    "c = SkyCoord(RA, DEC, unit=(u.hourangle, u.deg))     #converted SkyCoord object to decimals\n",
    "t = QTable([c], names=[\"wr_coord\"])       #convert to QTable to export to CSV file\n",
    "t.to_pandas().to_csv('wr_coord.csv', index=False, header=False)     #Feed this into Web TESS viewing tool"
   ]
  },
  {
   "cell_type": "code",
   "execution_count": null,
   "metadata": {},
   "outputs": [],
   "source": []
  }
 ],
 "metadata": {
  "kernelspec": {
   "display_name": "Python 3",
   "language": "python",
   "name": "python3"
  },
  "language_info": {
   "codemirror_mode": {
    "name": "ipython",
    "version": 3
   },
   "file_extension": ".py",
   "mimetype": "text/x-python",
   "name": "python",
   "nbconvert_exporter": "python",
   "pygments_lexer": "ipython3",
   "version": "3.8.3"
  }
 },
 "nbformat": 4,
 "nbformat_minor": 4
}
