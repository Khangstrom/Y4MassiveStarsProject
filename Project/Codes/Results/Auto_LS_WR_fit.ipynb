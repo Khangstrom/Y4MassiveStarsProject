{
 "cells": [
  {
   "cell_type": "code",
   "execution_count": null,
   "metadata": {},
   "outputs": [],
   "source": [
    "#Making a WR-purposed MCMC fitting suite - to optimise fittings of TESS light curves of WR stars\n",
    "import os, sys\n",
    "\n",
    "import matplotlib.pyplot as plt\n",
    "from matplotlib.ticker import AutoMinorLocator\n",
    "import matplotlib.ticker as ticker\n",
    "\n",
    "import numpy as np\n",
    "\n",
    "import astropy\n",
    "from astropy.io import fits\n",
    "from astropy.io import ascii\n",
    "import astropy.units as u\n",
    "# from astropy.utils.data import get_pkg_data_filename   #time-series extraction tool\n",
    "# from astropy.timeseries import TimeSeries\n",
    "\n",
    "import math \n",
    "\n",
    "import lightkurve as lk    #good time-series library\n",
    "\n",
    "import pandas as pd \n",
    "\n",
    "from scipy.optimize import curve_fit\n",
    "from scipy.optimize import minimize\n",
    "\n",
    "import emcee\n",
    "import corner\n",
    "\n",
    "from gls import Gls"
   ]
  },
  {
   "cell_type": "code",
   "execution_count": null,
   "metadata": {},
   "outputs": [],
   "source": []
  },
  {
   "cell_type": "code",
   "execution_count": null,
   "metadata": {},
   "outputs": [],
   "source": [
    "#Searching lightcurves\n",
    "def search_lc(name, mission, exptime, radius):\n",
    "    search_result = lk.search_lightcurve(name, mission=mission, exptime=exptime, radius=radius)\n",
    "    #print (search_result)\n",
    "    return search_result"
   ]
  },
  {
   "cell_type": "code",
   "execution_count": null,
   "metadata": {},
   "outputs": [],
   "source": [
    "#Auto-generate text files of light curves\n",
    "def lc_dat_generate(search_result, name):\n",
    "    lc_data = search_result.download_all()\n",
    "    for i in range (len(lc_data)):\n",
    "        lc_data[i].write(\"{}_lc{}.txt\".format(name, i), format=\"ascii.fixed_width\", overwrite=True)"
   ]
  },
  {
   "cell_type": "code",
   "execution_count": null,
   "metadata": {},
   "outputs": [],
   "source": [
    "def lc_view(lc_name, fold_factor, wrap_no, save_fig):\n",
    "    for k in lc_name:\n",
    "        search_res = search_lc(name=k, mission='TESS', exptime=120, radius=60)\n",
    "        for i in range (len(search_res)):\n",
    "            lc = search_res[i].download()\n",
    "            print ('Currently handling '+ k + '_' + str(i))\n",
    "            pg_lc = lc.normalize(unit='ppm').to_periodogram()    #to obtain period at max power\n",
    "            max_p = pg_lc.period_at_max_power\n",
    "            \n",
    "            #Generate light curve and after folding\n",
    "            #fig, ax1, ax2, ax3 = plt.subplots(3, 1, figsize=(12,6))\n",
    "            ax1 = lc.plot(column='pdcsap_flux', label='PDCSAP Flux', color='teal', normalize=True)    #PDCSAP flux\n",
    "            ax1.set_title('PDCSAP Light Curve of {}_lc{}'.format(k, i))\n",
    "            ax2 = lc.fold(period=max_p).scatter()\n",
    "            ax2.set_title('{}_lc{} - Folded at max period'.format(k, i))\n",
    "            ax3 = lc.fold(period=fold_factor*max_p, wrap_phase=wrap_no).scatter()\n",
    "            ax3.set_title('{}_lc{} - {}*period_max - wrap_phase = {}'.format(k, i, fold_factor, wrap_no))\n",
    "            \n",
    "            #Save plots to correct folders\n",
    "            if save_fig:\n",
    "                new_dir = '{}'.format(k)\n",
    "                current_loc = os.getcwd()          #get current working directory\n",
    "                gen_path = os.path.join(current_loc, new_dir)\n",
    "                new_subdir = '{}_lc{}'.format(k, i)\n",
    "                lc_path = os.path.join(gen_path, new_subdir)\n",
    "                #saving each axes separately\n",
    "                lc_sig = 'pdcsap_{}_lc{}.png'.format(k, i)\n",
    "                f_lc = '{}_lc{}_folded.png'.format(k, i)\n",
    "                fw_lc = '{}_lc{}_folded_wrap.png'.format(k, i)\n",
    "                \n",
    "                ax1.figure.savefig(os.path.join(lc_path, lc_sig), bbox_inches='tight')\n",
    "                ax2.figure.savefig(os.path.join(lc_path, f_lc), bbox_inches='tight')\n",
    "                ax3.figure.savefig(os.path.join(lc_path, fw_lc), bbox_inches='tight')"
   ]
  },
  {
   "cell_type": "code",
   "execution_count": null,
   "metadata": {
    "scrolled": true
   },
   "outputs": [],
   "source": [
    "lc_view(all_wr_list, 4, 0.2, True)"
   ]
  },
  {
   "cell_type": "code",
   "execution_count": null,
   "metadata": {},
   "outputs": [],
   "source": [
    "#lc - light curves (array), mission - TESS, exptime - 120s, radius - 60\"\n",
    "def LS_gen(lc_name, mission, exptime, radius):\n",
    "    #iterate through entire database of WRs\n",
    "    for k in lc_name:\n",
    "        search_res = search_lc(name=k, mission='TESS', exptime=120, radius=60)\n",
    "        \n",
    "    \n",
    "#         #array storing estimates of fit params\n",
    "#         dat_len_rec = []\n",
    "#         a0_rec = []\n",
    "#         a1_rec = []\n",
    "#         a3_rec = []\n",
    "\n",
    "        for i in range (len(search_res)):\n",
    "            lc = search_res[i].download()\n",
    "            print ('Currently handling '+ k + '_' + str(i))\n",
    "\n",
    "            #making the LS periodogram\n",
    "            pg_lc = lc.normalize(unit='ppm').to_periodogram()\n",
    "            dat_len = len(pg_lc.power.value)    #need length to adjust accordingly later\n",
    "            a0_est = np.mean(pg_lc.power[0:10].value)    #estimate for a0\n",
    "            a1_est = 1/pg_lc.period_at_max_power.value   #estimate for characteristic freq. (in days)\n",
    "            a3_est = np.mean(pg_lc.power[-20000:].value)   #estimate for white noise term\n",
    "            print (dat_len, a0_est, a1_est, a3_est)\n",
    "            \n",
    "#             dat_len_rec.append(dat_len)\n",
    "#             a0_rec.append(a0_est)\n",
    "#             a1_rec.append(a1_est)    \n",
    "#             a3_rec.append(a3_est)\n",
    "\n",
    "            #saving LS to appropriate folder(s)\n",
    "            ax = pg_lc.plot(view='frequency', scale='log')\n",
    "            ax.set_title('Lomb-Scargle periodogram - ' + k +'- LC' + str(i))\n",
    "\n",
    "            new_dir = '{}'.format(k)\n",
    "            current_loc = os.getcwd()          #get current working directory\n",
    "            gen_path = os.path.join(current_loc, new_dir)\n",
    "            my_LS = 'LS_full_{}_lc{}.png'.format(k, i)\n",
    "\n",
    "            #Saving into sub-directories each target's lc\n",
    "            new_subdir = '{}_lc{}'.format(k, i)\n",
    "            lc_path = os.path.join(gen_path, new_subdir)\n",
    "\n",
    "            #preventing already-existing errors\n",
    "            try:\n",
    "                os.makedirs(lc_path, exist_ok = True)\n",
    "                #print(\"Directory '%s' created successfully\" % new_subdir)\n",
    "            except OSError as error:\n",
    "                print(\"Directory '%s' can not be created\" % new_subdir)\n",
    "\n",
    "\n",
    "            #Saving it in the correct sub-dir\n",
    "            plt.savefig(os.path.join(lc_path, my_LS), bbox_inches='tight')\n",
    "        "
   ]
  },
  {
   "cell_type": "code",
   "execution_count": null,
   "metadata": {},
   "outputs": [],
   "source": [
    "#Function to edit and shorten periodogram for MCMC fittings\n",
    "\n",
    "#lc_name - light curve name (str), fi - initial freq, ff - final freq\n",
    "def LS_edit(lc_name, fi, ff, step, bin_bool):\n",
    "    for k in lc_name:\n",
    "        search_res = search_lc(name=k, mission='TESS', exptime=120, radius=60)\n",
    "        \n",
    "        for i in range (len(search_res)):\n",
    "            lc = search_res[i].download()\n",
    "            print ('Currently handling '+ k + '_' + str(i))\n",
    "            \n",
    "            #Modifying the LS - reducing and binning if necessary\n",
    "            freq_range = np.linspace(fi, ff, step)\n",
    "            pg_lc = lc.normalize(unit='ppm').to_periodogram(frequency=freq_range)\n",
    "            if bin_bool:\n",
    "                pg_lc = pg_lc.bin(binsize=15, method='mean')\n",
    "            \n",
    "#             #Getting x-y values for later MCMC fitting\n",
    "#             x = getattr(pg_lc, 'frequency')   #frequency array\n",
    "#             y = getattr(pg_lc, 'power')       #power (ppm) array\n",
    "            \n",
    "#             #converting to scalars\n",
    "#             freq = [float(i/(1*x.unit)) for i in x]        \n",
    "#             amp_pow = [float(j/(1*y.unit)) for j in y]\n",
    "            \n",
    "            #Generate plot and save\n",
    "            plt.ioff()   #don't display in kernel\n",
    "            ax = pg_lc.plot(view='frequency', scale='log')\n",
    "            ax.set_title('Reduced Lomb-Scargle - ' + k +'- LC' + str(i))\n",
    "            \n",
    "            new_dir = '{}'.format(k)\n",
    "            current_loc = os.getcwd()          #get current working directory\n",
    "            gen_path = os.path.join(current_loc, new_dir)\n",
    "            my_LS = 'LS_rd_{}_lc{}.png'.format(k, i)\n",
    "\n",
    "            #Saving into sub-directories each target's lc\n",
    "            new_subdir = '{}_lc{}'.format(k, i)\n",
    "            lc_path = os.path.join(gen_path, new_subdir)\n",
    "\n",
    "#             #preventing already-existing errors\n",
    "#             try:\n",
    "#                 os.makedirs(lc_path, exist_ok = True)\n",
    "#                 #print(\"Directory '%s' created successfully\" % new_subdir)\n",
    "#             except OSError as error:\n",
    "#                 print(\"Directory '%s' can not be created\" % new_subdir)\n",
    "\n",
    "\n",
    "            #Saving it in the correct sub-dir\n",
    "            plt.savefig(os.path.join(lc_path, my_LS), bbox_inches='tight')\n",
    "\n",
    "        #return (freq, amp_pow)\n",
    "    \n"
   ]
  },
  {
   "cell_type": "code",
   "execution_count": null,
   "metadata": {},
   "outputs": [],
   "source": [
    "#Test block\n",
    "my_file = 'graph.png'\n",
    "my_path = os.path.abspath('Auto_LS_WR_fit')\n",
    "my_dir = 'something'\n",
    "print (os.path.abspath('Auto_LS_WR_fit'))\n",
    "print (os.path.abspath(os.path.join(my_path, my_file)))\n",
    "cur_loc = os.getcwd()\n",
    "path = os.path.join(cur_loc, my_dir)\n",
    "os.makedirs(path)"
   ]
  },
  {
   "cell_type": "code",
   "execution_count": null,
   "metadata": {},
   "outputs": [],
   "source": [
    "wr_search = lk.search_lightcurve(\"WR16\", mission=\"TESS\", exptime=120, radius=60)\n",
    "wr133_lc1 = wr_search[0].download()\n",
    "pg = wr133_lc1.normalize(unit='ppm').to_periodogram()\n",
    "print (len(pg.power.value))"
   ]
  },
  {
   "cell_type": "code",
   "execution_count": null,
   "metadata": {},
   "outputs": [],
   "source": [
    "all_wr_list = ['WR1', 'WR2', 'WR3', 'WR4', 'WR5', 'WR6', 'WR7', 'WR8', 'WR9', 'WR10', 'WR11', 'WR12', 'WR14', 'WR15', 'WR16', 'WR17', 'WR18', 'WR21', 'WR22', 'WR23', 'WR24', 'WR25', 'WR31', 'WR31A', 'WR31B', 'WR40', 'WR42', \n",
    "               'WR43A', 'WR43B', 'WR43C', 'WR46', 'WR47', 'WR48', 'WR50', 'WR52', 'WR53', 'WR55', 'WR57', 'WR59', 'WR66', 'WR67', 'WR69', 'WR70', 'WR71', 'WR75', 'WR78', 'WR79', 'WR79A', 'WR79B', 'WR85', 'WR86', 'WR87', 'WR89',\n",
    "               'WR90', 'WR92', 'WR93', 'WR97', 'WR98', 'WR103', 'WR124', 'WR127', 'WR128', 'WR133', 'WR134', 'WR135', 'WR136', 'WR137', 'WR138', 'WR139', 'WR140', 'WR141', 'WR143', 'WR148', 'WR153', 'WR155', 'WR157', 'WR158', 'WR159']\n"
   ]
  },
  {
   "cell_type": "code",
   "execution_count": null,
   "metadata": {},
   "outputs": [],
   "source": []
  },
  {
   "cell_type": "code",
   "execution_count": null,
   "metadata": {
    "scrolled": true
   },
   "outputs": [],
   "source": [
    "#Execute command to generate all LS periodograms\n",
    "LS_gen(all_wr_list, \"TESS\", 120, 60)"
   ]
  },
  {
   "cell_type": "code",
   "execution_count": null,
   "metadata": {},
   "outputs": [],
   "source": []
  },
  {
   "cell_type": "code",
   "execution_count": null,
   "metadata": {
    "scrolled": true
   },
   "outputs": [],
   "source": [
    "#Execute command to generate all reduced LS\n",
    "LS_edit(all_wr_list, 0.01, 100, 5000, False)"
   ]
  },
  {
   "cell_type": "code",
   "execution_count": null,
   "metadata": {},
   "outputs": [],
   "source": []
  },
  {
   "cell_type": "code",
   "execution_count": null,
   "metadata": {},
   "outputs": [],
   "source": []
  },
  {
   "cell_type": "code",
   "execution_count": null,
   "metadata": {},
   "outputs": [],
   "source": [
    "#Defining likelihood, flat prior and combined to probability\n",
    "#a1 = v_c, a2 = gamma, a3 = C_w // x = \\nu\n",
    "\n",
    "def model(theta, freq=freq):\n",
    "    a0, a1, a2, a3 = theta\n",
    "    return (a0/(1+(freq/a1)**a2)) + a3\n",
    "\n",
    "def log_likelihood(theta, x, y, yerr):\n",
    "    return -0.5 * np.sum(((y - model(theta, x))/yerr) ** 2) \n",
    "\n",
    "#define flat prior\n",
    "def log_prior(theta):\n",
    "    a0, a1, a2, a3 = theta\n",
    "    if 10**3 < a0 < 10**5 and 10**-1 < a1 < 10**1 and 0 < a2 < 20 and 10**1 < a3 < 10**3:\n",
    "        return 0.0\n",
    "    return -np.inf\n",
    "\n",
    "def log_probability(theta, x, y, yerr):\n",
    "    lp = log_prior(theta)\n",
    "    if not np.isfinite(lp):\n",
    "        return -np.inf\n",
    "    return lp + log_likelihood(theta, x, y, yerr) "
   ]
  },
  {
   "cell_type": "code",
   "execution_count": null,
   "metadata": {},
   "outputs": [],
   "source": [
    "#Define 'true' values of a0, a1, a2, a3 and assuming an error of amplitude power\n",
    "a0_true = 10**4\n",
    "a1_true = 2\n",
    "a2_true = 2\n",
    "a3_true = 80\n",
    "amp_err = 0.05*np.mean(amp_pow)\n",
    "\n",
    "#Setting up for ensemble sampler\n",
    "data = [freq, amp_pow, amp_err]\n",
    "nwalkers = 150\n",
    "niter = 3000\n",
    "initial = np.array([a0_true, a1_true, a2_true, a3_true])\n",
    "ndim = len(initial)\n",
    "p0 = [np.array(initial) + 1e-6 * np.random.randn(ndim) for i in range(nwalkers)]"
   ]
  },
  {
   "cell_type": "code",
   "execution_count": null,
   "metadata": {},
   "outputs": [],
   "source": [
    "def main_MCMC(p0,nwalkers,niter,ndim,log_probability,data):\n",
    "    sampler = emcee.EnsembleSampler(nwalkers, ndim, log_probability, args=data)\n",
    "\n",
    "    print(\"Running burn-in...\")\n",
    "    p0, _, _ = sampler.run_mcmc(p0, 150)\n",
    "    sampler.reset()\n",
    "\n",
    "    print(\"Running production...\")\n",
    "    pos, prob, state = sampler.run_mcmc(p0, niter, progress=True)\n",
    "\n",
    "    return sampler, pos, prob, state\n",
    "\n",
    "sampler, pos, prob, state = main_MCMC(p0,nwalkers,niter,ndim,log_probability,data)"
   ]
  },
  {
   "cell_type": "code",
   "execution_count": null,
   "metadata": {},
   "outputs": [],
   "source": [
    "samples = sampler.flatchain\n",
    "samples[np.argmax(sampler.flatlnprobability)]"
   ]
  },
  {
   "cell_type": "code",
   "execution_count": null,
   "metadata": {},
   "outputs": [],
   "source": [
    "def plotter(sampler,freq,amp_pow, max_like):\n",
    "    plt.ion()\n",
    "    plt.subplots(figsize=(10, 6))\n",
    "    plt.yscale('log')\n",
    "    plt.xscale('log')\n",
    "    plt.plot(freq,amp_pow,label='LS periodogram')\n",
    "    samples = sampler.flatchain\n",
    "    \n",
    "    #choose max-likelihood model\n",
    "    if max_like:\n",
    "        theta = samples[np.argmax(sampler.flatlnprobability)]\n",
    "        plt.plot(freq, model(theta, freq), color='crimson', alpha=0.9)\n",
    "    else:\n",
    "        for theta in samples[np.random.randint(len(samples), size=100)]:\n",
    "            plt.plot(freq, model(theta, freq), color=\"r\", alpha=0.1)\n",
    "        \n",
    "    #plt.ticklabel_format(style='sci', axis='x', scilimits=(0,0))\n",
    "    plt.xlabel('Freq')\n",
    "    plt.ylabel('Amplitude Power')\n",
    "    plt.legend()\n",
    "    plt.show()\n",
    "\n",
    "plotter(sampler, freq, amp_pow, True)"
   ]
  },
  {
   "cell_type": "code",
   "execution_count": null,
   "metadata": {},
   "outputs": [],
   "source": [
    "# tau = sampler.get_autocorr_time()\n",
    "# print(tau)\n",
    "flat_samples = sampler.get_chain(discard=180, thin=45, flat=True)\n",
    "print(flat_samples.shape)\n",
    "fig = corner.corner(\n",
    "    flat_samples, labels=labels, truths=[a0_true, a1_true, a2_true, a3_true]\n",
    ");"
   ]
  },
  {
   "cell_type": "code",
   "execution_count": null,
   "metadata": {},
   "outputs": [],
   "source": [
    "def residual_max(sampler, x, y):\n",
    "    samples = sampler.flatchain\n",
    "    #choose max-likelihood model\n",
    "    theta = samples[np.argmax(sampler.flatlnprobability)]   \n",
    "    res = y - model(theta, x)\n",
    "#     res_err = np.median(res)\n",
    "#     print (np.median(res))\n",
    "    \n",
    "    plt.subplots(figsize=(16, 6))\n",
    "    plt.plot(x, res, color='crimson', alpha=0.8)\n",
    "    #plt.ticklabel_format(style='sci', axis='x', scilimits=(0,0))\n",
    "    plt.xlim(0.1,40)\n",
    "    plt.ylim(-100,500)\n",
    "    plt.hlines(0,0,400, linestyles='dashed', alpha=0.5)\n",
    "    plt.xlabel('Freq')\n",
    "    plt.ylabel('Amplitude Power')\n",
    "    plt.show()\n",
    "    \n",
    "plotter(sampler, freq, amp_pow, True)\n",
    "residual_max(sampler, freq, amp_pow)"
   ]
  },
  {
   "cell_type": "code",
   "execution_count": null,
   "metadata": {},
   "outputs": [],
   "source": []
  },
  {
   "cell_type": "code",
   "execution_count": null,
   "metadata": {},
   "outputs": [],
   "source": []
  },
  {
   "cell_type": "code",
   "execution_count": null,
   "metadata": {},
   "outputs": [],
   "source": []
  },
  {
   "cell_type": "code",
   "execution_count": null,
   "metadata": {},
   "outputs": [],
   "source": []
  },
  {
   "cell_type": "code",
   "execution_count": null,
   "metadata": {},
   "outputs": [],
   "source": []
  },
  {
   "cell_type": "code",
   "execution_count": null,
   "metadata": {},
   "outputs": [],
   "source": []
  },
  {
   "cell_type": "code",
   "execution_count": null,
   "metadata": {},
   "outputs": [],
   "source": []
  },
  {
   "cell_type": "code",
   "execution_count": null,
   "metadata": {},
   "outputs": [],
   "source": []
  },
  {
   "cell_type": "code",
   "execution_count": null,
   "metadata": {},
   "outputs": [],
   "source": []
  },
  {
   "cell_type": "code",
   "execution_count": null,
   "metadata": {},
   "outputs": [],
   "source": []
  },
  {
   "cell_type": "code",
   "execution_count": null,
   "metadata": {},
   "outputs": [],
   "source": []
  },
  {
   "cell_type": "code",
   "execution_count": null,
   "metadata": {},
   "outputs": [],
   "source": []
  },
  {
   "cell_type": "code",
   "execution_count": null,
   "metadata": {},
   "outputs": [],
   "source": []
  },
  {
   "cell_type": "code",
   "execution_count": null,
   "metadata": {},
   "outputs": [],
   "source": []
  },
  {
   "cell_type": "code",
   "execution_count": null,
   "metadata": {},
   "outputs": [],
   "source": []
  },
  {
   "cell_type": "code",
   "execution_count": null,
   "metadata": {},
   "outputs": [],
   "source": []
  }
 ],
 "metadata": {
  "kernelspec": {
   "display_name": "Python 3",
   "language": "python",
   "name": "python3"
  },
  "language_info": {
   "codemirror_mode": {
    "name": "ipython",
    "version": 3
   },
   "file_extension": ".py",
   "mimetype": "text/x-python",
   "name": "python",
   "nbconvert_exporter": "python",
   "pygments_lexer": "ipython3",
   "version": "3.8.3"
  }
 },
 "nbformat": 4,
 "nbformat_minor": 4
}
