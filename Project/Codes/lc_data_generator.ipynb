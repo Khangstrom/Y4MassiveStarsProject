{
 "cells": [
  {
   "cell_type": "code",
   "execution_count": 2,
   "metadata": {},
   "outputs": [],
   "source": [
    "import os, sys\n",
    "import lightkurve as lk    #good time-series library\n",
    "import pandas as pd \n",
    "import numpy as np\n",
    "import astropy"
   ]
  },
  {
   "cell_type": "code",
   "execution_count": 3,
   "metadata": {},
   "outputs": [],
   "source": [
    "#Searching lightcurves\n",
    "def search_lc(name, mission, exptime, radius):\n",
    "    search_result = lk.search_lightcurve(name, mission=mission, exptime=exptime, radius=radius)\n",
    "    print (search_result)\n",
    "    return search_result"
   ]
  },
  {
   "cell_type": "code",
   "execution_count": 4,
   "metadata": {},
   "outputs": [],
   "source": [
    "#Auto-generate text files of light curves\n",
    "def lc_dat_generate(search_result, name):\n",
    "    lc_data = search_result.download_all()\n",
    "    for i in range (len(lc_data)):\n",
    "        lc_data[i].write(\"{}_lc{}.txt\".format(name, i), format=\"ascii.fixed_width\", overwrite=True)"
   ]
  },
  {
   "cell_type": "code",
   "execution_count": 17,
   "metadata": {},
   "outputs": [
    {
     "name": "stdout",
     "output_type": "stream",
     "text": [
      "SearchResult containing 1 data products.\n",
      "\n",
      " #     mission     year author exptime target_name distance\n",
      "                                  s                 arcsec \n",
      "--- -------------- ---- ------ ------- ----------- --------\n",
      "  0 TESS Sector 39 2021   SPOC     120   265405113      0.0\n"
     ]
    }
   ],
   "source": [
    "#Inspect results from search before generating data\n",
    "search_res = search_lc(\"WR103\", \"TESS\", 120, 60)\n",
    "#for i in range (len(search_res)):\n",
    "#    print (search_res[i])"
   ]
  },
  {
   "cell_type": "code",
   "execution_count": 13,
   "metadata": {},
   "outputs": [],
   "source": [
    "#Note: This is in text-form NOT FITS \n",
    "lc_dat_generate(search_res, \"WR6\")"
   ]
  },
  {
   "cell_type": "code",
   "execution_count": 10,
   "metadata": {},
   "outputs": [],
   "source": [
    "#Take note of WR11 - has 8 light curves (4 per target)\n",
    "#WR18 - 4 light curves (2 each) \n",
    "#WR55 - 2 light curves (1 each)\n",
    "#WR85 has distance of 9.3\"\n",
    "#WR 1,2,5,8,31a,31b,92,124,127,128,134-138,140,143,157-159 has no light curve data"
   ]
  },
  {
   "cell_type": "code",
   "execution_count": 14,
   "metadata": {
    "scrolled": true
   },
   "outputs": [
    {
     "name": "stdout",
     "output_type": "stream",
     "text": [
      "14691\n"
     ]
    }
   ],
   "source": [
    "wr18 = search_res[0].download()\n",
    "print(len(wr18.time.value))"
   ]
  },
  {
   "cell_type": "code",
   "execution_count": null,
   "metadata": {},
   "outputs": [],
   "source": []
  },
  {
   "cell_type": "code",
   "execution_count": null,
   "metadata": {},
   "outputs": [],
   "source": [
    "wr_search = lk.search_lightcurve(\"WR40\", mission=\"TESS\", exptime=120, radius=60)\n",
    "wr40_lc3 = wr_search[0].download()\n",
    "wr40_lc3.flux.value"
   ]
  },
  {
   "cell_type": "code",
   "execution_count": null,
   "metadata": {
    "scrolled": true
   },
   "outputs": [],
   "source": [
    "# save_path = 'norm_data'\n",
    "# file_name = \"test.txt\"\n",
    "\n",
    "# completeName = os.path.join(save_path, file_name)\n",
    "# print(completeName)\n",
    "\n",
    "# file1 = open(completeName, \"w\")\n",
    "# file1.write(\"file information\")\n",
    "# file1.close()"
   ]
  },
  {
   "cell_type": "code",
   "execution_count": 5,
   "metadata": {},
   "outputs": [],
   "source": [
    "#Auto-generate text files of light curves\n",
    "def lc_dat_normflux(name):\n",
    "    search_res = search_lc(name, \"TESS\", 120, 60)\n",
    "    lc_data = search_res.download_all()\n",
    "    #pg_wr40_lc1 = wr40_lc1.normalize(unit='ppm').to_periodogram()\n",
    "    for i in range (len(lc_data)):\n",
    "        save_path = 'norm_data'\n",
    "        file_name = \"{}_nlc{}.txt\".format(name, i)\n",
    "        comp_name = os.path.join(save_path, file_name)\n",
    "        norm_flux = lc_data[i].normalize().flux.value - 1\n",
    "        norm_file = np.savetxt(comp_name, norm_flux)"
   ]
  },
  {
   "cell_type": "code",
   "execution_count": 6,
   "metadata": {},
   "outputs": [
    {
     "name": "stdout",
     "output_type": "stream",
     "text": [
      "SearchResult containing 3 data products.\n",
      "\n",
      " #     mission     year author exptime target_name distance\n",
      "                                  s                 arcsec \n",
      "--- -------------- ---- ------ ------- ----------- --------\n",
      "  0 TESS Sector 06 2018   SPOC     120    78959225      0.0\n",
      "  1 TESS Sector 07 2019   SPOC     120    78959225      0.0\n",
      "  2 TESS Sector 33 2020   SPOC     120    78959225      0.0\n"
     ]
    }
   ],
   "source": [
    "lc_dat_normflux('WR6')"
   ]
  },
  {
   "cell_type": "code",
   "execution_count": null,
   "metadata": {},
   "outputs": [],
   "source": [
    "\n"
   ]
  },
  {
   "cell_type": "code",
   "execution_count": null,
   "metadata": {},
   "outputs": [],
   "source": []
  }
 ],
 "metadata": {
  "kernelspec": {
   "display_name": "Python 3",
   "language": "python",
   "name": "python3"
  },
  "language_info": {
   "codemirror_mode": {
    "name": "ipython",
    "version": 3
   },
   "file_extension": ".py",
   "mimetype": "text/x-python",
   "name": "python",
   "nbconvert_exporter": "python",
   "pygments_lexer": "ipython3",
   "version": "3.8.3"
  }
 },
 "nbformat": 4,
 "nbformat_minor": 4
}
